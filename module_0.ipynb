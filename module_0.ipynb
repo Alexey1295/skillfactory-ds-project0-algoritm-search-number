{
 "cells": [
  {
   "cell_type": "code",
   "execution_count": 1,
   "metadata": {},
   "outputs": [],
   "source": [
    "import math\n",
    "\n",
    "\n",
    "def game_core_v3(number):\n",
    "    '''Функция, отгадывающая заданное число от 1 до 100, за минимально возможное количество попыток. \n",
    "    При каждой неудачной попытке угадать число получаем информацию: больше или меньше заданное число.'''\n",
    "    predict = 50    # предполагаемое число; \n",
    "                    # изначально приравниваем к медиане отрезка [1,100], округленной до целого числа в меньшую сторону\n",
    "    count = 1       # количество попыток угадать заданное число \n",
    "    while number != predict:    # выполняем цикл пока не угадаем заданное число\n",
    "        count += 1              # увеличиваем кол-во попыток угадать число на 1\n",
    "        if number > predict:\n",
    "            predict = predict + math.ceil(100. / (2**count))      \n",
    "        elif number < predict:\n",
    "            predict = predict - math.ceil(100. / (2**count))      # далее предположим число, исключающее 1/2 оставших вариантов \n",
    "            # размах, на который > or < предпологаемое число, округляем в большую сторону до целого, чтобы размах не был равен 0\n",
    "            # тем самым максимум за 7 попыток (оценка: log(2,100)) найти число\n",
    "            \n",
    "    return count # вернуть кол-во попыток"
   ]
  },
  {
   "cell_type": "code",
   "execution_count": 2,
   "metadata": {},
   "outputs": [
    {
     "name": "stdout",
     "output_type": "stream",
     "text": [
      "7\n",
      "5\n",
      "6\n",
      "5\n",
      "2\n",
      "3\n",
      "7\n"
     ]
    }
   ],
   "source": [
    "# Проверка работы функции game_core_v3 на частных примерах\n",
    "# print(game_core_v3(4))\n",
    "# print(game_core_v3(9))\n",
    "# print(game_core_v3(13))\n",
    "# print(game_core_v3(27))\n",
    "# print(game_core_v3(75))\n",
    "# print(game_core_v3(88))\n",
    "# print(game_core_v3(100))"
   ]
  },
  {
   "cell_type": "code",
   "execution_count": 3,
   "metadata": {},
   "outputs": [
    {
     "name": "stdout",
     "output_type": "stream",
     "text": [
      "Ваш алгоритм угадывает число в среднем за 5 попыток\n"
     ]
    },
    {
     "data": {
      "text/plain": [
       "5"
      ]
     },
     "execution_count": 3,
     "metadata": {},
     "output_type": "execute_result"
    }
   ],
   "source": [
    "import numpy as np\n",
    "\n",
    "\n",
    "def score_game(game_core):\n",
    "    '''Запускаем игру 1000 раз, чтобы узнать, как быстро в среднем игра угадывает число'''\n",
    "    count_ls = []\n",
    "    np.random.seed(1)  # фиксируем RANDOM SEED, чтобы ваш эксперимент был воспроизводим!\n",
    "    random_array = np.random.randint(1,101, size=(1000))\n",
    "    for number in random_array:\n",
    "        count_ls.append(game_core(number))\n",
    "    score = int(np.mean(count_ls))\n",
    "    print(f'Ваш алгоритм угадывает число в среднем за {score} попыток')\n",
    "    \n",
    "    return score\n",
    "\n",
    "\n",
    "score_game(game_core_v3)"
   ]
  },
  {
   "cell_type": "code",
   "execution_count": null,
   "metadata": {},
   "outputs": [],
   "source": []
  }
 ],
 "metadata": {
  "kernelspec": {
   "display_name": "Python 3",
   "language": "python",
   "name": "python3"
  },
  "language_info": {
   "codemirror_mode": {
    "name": "ipython",
    "version": 3
   },
   "file_extension": ".py",
   "mimetype": "text/x-python",
   "name": "python",
   "nbconvert_exporter": "python",
   "pygments_lexer": "ipython3",
   "version": "3.8.3"
  }
 },
 "nbformat": 4,
 "nbformat_minor": 4
}
